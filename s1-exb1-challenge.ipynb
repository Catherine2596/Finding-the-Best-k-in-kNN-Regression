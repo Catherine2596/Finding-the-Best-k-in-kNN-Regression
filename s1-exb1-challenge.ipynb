{
    "metadata": {
        "kernelspec": {
            "name": "python3",
            "display_name": "Python 3 (ipykernel)",
            "language": "python"
        }
    },
    "nbformat": 4,
    "nbformat_minor": 4,
    "cells": [
        {
            "cell_type": "code",
            "execution_count": 73,
            "metadata": {},
            "outputs": [],
            "source": [
                "# Import necessary libraries\n",
                "import numpy as np\n",
                "import pandas as pd \n",
                "import matplotlib.pyplot as plt\n",
                "from sklearn.utils import shuffle\n",
                "from sklearn.metrics import r2_score\n",
                "from sklearn.metrics import mean_squared_error\n",
                "from sklearn.neighbors import KNeighborsRegressor\n",
                "from sklearn.model_selection import train_test_split\n",
                "%matplotlib inline\n",
                ""
            ]
        },
        {
            "attachments": {},
            "cell_type": "markdown",
            "metadata": {},
            "source": [
                "### Reading the standard Advertising dataset"
            ]
        },
        {
            "cell_type": "code",
            "execution_count": 74,
            "metadata": {},
            "outputs": [],
            "source": [
                "# Read the file 'Advertising.csv' into a Pandas dataset\n",
                "df = pd.read_csv('Advertising.csv')\n",
                ""
            ]
        },
        {
            "cell_type": "code",
            "execution_count": 75,
            "metadata": {},
            "outputs": [
                {
                    "data": {
                        "text/html": "\u003cdiv\u003e\n\u003cstyle scoped\u003e\n    .dataframe tbody tr th:only-of-type {\n        vertical-align: middle;\n    }\n\n    .dataframe tbody tr th {\n        vertical-align: top;\n    }\n\n    .dataframe thead th {\n        text-align: right;\n    }\n\u003c/style\u003e\n\u003ctable border=\"1\" class=\"dataframe\"\u003e\n  \u003cthead\u003e\n    \u003ctr style=\"text-align: right;\"\u003e\n      \u003cth\u003e\u003c/th\u003e\n      \u003cth\u003eTV\u003c/th\u003e\n      \u003cth\u003eRadio\u003c/th\u003e\n      \u003cth\u003eNewspaper\u003c/th\u003e\n      \u003cth\u003eSales\u003c/th\u003e\n    \u003c/tr\u003e\n  \u003c/thead\u003e\n  \u003ctbody\u003e\n    \u003ctr\u003e\n      \u003cth\u003e0\u003c/th\u003e\n      \u003ctd\u003e230.1\u003c/td\u003e\n      \u003ctd\u003e37.8\u003c/td\u003e\n      \u003ctd\u003e69.2\u003c/td\u003e\n      \u003ctd\u003e22.1\u003c/td\u003e\n    \u003c/tr\u003e\n    \u003ctr\u003e\n      \u003cth\u003e1\u003c/th\u003e\n      \u003ctd\u003e44.5\u003c/td\u003e\n      \u003ctd\u003e39.3\u003c/td\u003e\n      \u003ctd\u003e45.1\u003c/td\u003e\n      \u003ctd\u003e10.4\u003c/td\u003e\n    \u003c/tr\u003e\n    \u003ctr\u003e\n      \u003cth\u003e2\u003c/th\u003e\n      \u003ctd\u003e17.2\u003c/td\u003e\n      \u003ctd\u003e45.9\u003c/td\u003e\n      \u003ctd\u003e69.3\u003c/td\u003e\n      \u003ctd\u003e9.3\u003c/td\u003e\n    \u003c/tr\u003e\n    \u003ctr\u003e\n      \u003cth\u003e3\u003c/th\u003e\n      \u003ctd\u003e151.5\u003c/td\u003e\n      \u003ctd\u003e41.3\u003c/td\u003e\n      \u003ctd\u003e58.5\u003c/td\u003e\n      \u003ctd\u003e18.5\u003c/td\u003e\n    \u003c/tr\u003e\n    \u003ctr\u003e\n      \u003cth\u003e4\u003c/th\u003e\n      \u003ctd\u003e180.8\u003c/td\u003e\n      \u003ctd\u003e10.8\u003c/td\u003e\n      \u003ctd\u003e58.4\u003c/td\u003e\n      \u003ctd\u003e12.9\u003c/td\u003e\n    \u003c/tr\u003e\n  \u003c/tbody\u003e\n\u003c/table\u003e\n\u003c/div\u003e",
                        "text/plain": "      TV  Radio  Newspaper  Sales\n0  230.1   37.8       69.2   22.1\n1   44.5   39.3       45.1   10.4\n2   17.2   45.9       69.3    9.3\n3  151.5   41.3       58.5   18.5\n4  180.8   10.8       58.4   12.9"
                    },
                    "execution_count": 75,
                    "metadata": {},
                    "output_type": "execute_result"
                }
            ],
            "source": [
                "# Take a quick look at the data\n",
                "df.head()\n",
                ""
            ]
        },
        {
            "cell_type": "code",
            "execution_count": 76,
            "metadata": {},
            "outputs": [],
            "source": [
                "# Set the 'TV' column as predictor variable\n",
                "x = df['TV']\n",
                "\n",
                "# Set the 'Sales' column as response variable \n",
                "y = df['Sales']\n",
                ""
            ]
        },
        {
            "attachments": {},
            "cell_type": "markdown",
            "metadata": {},
            "source": [
                "### Train-Test split"
            ]
        },
        {
            "cell_type": "code",
            "execution_count": 77,
            "metadata": {},
            "outputs": [
                {
                    "name": "stdout",
                    "output_type": "stream",
                    "text": "Shape of x: (200,)\nShape of y: (200,)\n"
                }
            ],
            "source": [
                "### edTest(test_shape) ###\n",
                "# Split the dataset in training and testing with 60% training set and \n",
                "# 40% testing set \n",
                "x_train, x_test, y_train, y_test = train_test_split(x,y,train_size=0.6,random_state=66)\n",
                "\n",
                "# Check the shape of the train set\n",
                "train_set_size = x_train.shape[0]  # Number of samples in the train set\n",
                "\n",
                "# Calculate the expected size of the train set\n",
                "expected_train_size = int(0.6 * x.shape[0])\n",
                "\n",
                "# Assert that the train set size matches the expected size\n",
                "assert train_set_size == expected_train_size, 'Train set is not 60%'\n",
                "\n",
                "print(\"Shape of x:\", x.shape)\n",
                "print(\"Shape of y:\", y.shape)\n",
                ""
            ]
        },
        {
            "cell_type": "code",
            "execution_count": 78,
            "metadata": {},
            "outputs": [],
            "source": [
                "### edTest(test_nums) ###\n",
                "# Choosing k range from 1 to 70\n",
                "k_value_min = 1\n",
                "k_value_max = 70\n",
                "\n",
                "# Create a list of integer k values between k_value_min and \n",
                "# k_value_max using linspace\n",
                "k_list = np.linspace(k_value_min,k_value_max,num=70,dtype=int)\n",
                ""
            ]
        },
        {
            "attachments": {},
            "cell_type": "markdown",
            "metadata": {},
            "source": [
                "### Model fit"
            ]
        },
        {
            "cell_type": "code",
            "execution_count": 79,
            "metadata": {},
            "outputs": [],
            "source": [
                "# Setup a grid for plotting the data and predictions\n",
                "fig, ax = plt.subplots(figsize=(10,6))\n",
                "\n",
                "# Create a dictionary to store the k value against MSE fit {k: MSE@k} \n",
                "knn_dict = {}\n",
                "\n",
                "# Variable used for altering the linewidth of values kNN models\n",
                "j=0\n",
                "\n",
                "# Loop over all k values\n",
                "for k_value in k_list:   \n",
                "    \n",
                "    # Create a KNN Regression model for the current k\n",
                "    KNN = KNeighborsRegressor(n_neighbors=min(int(k_value), len(x_train)))  # Ensure number of neighbors is valid\n",
                "    \n",
                "    # Fit the model on the train data\n",
                "    KNN.fit(x_train.values.reshape(-1, 1), y_train.values.reshape(-1, 1)) \n",
                "    \n",
                "    # Use the trained model to predict on the test data\n",
                "    y_pred = KNN.predict(x_test.values.reshape(-1, 1))\n",
                "    \n",
                "    # Calculate the MSE of the test data predictions\n",
                "    MSE = mean_squared_error(y_test, y_pred)\n",
                "\n",
                "    # Store the MSE values of each k value in the dictionary\n",
                "    knn_dict[k_value] = MSE\n",
                "    \n",
                "    \n",
                "    # Helper code to plot the data and various kNN model predictions\n",
                "    colors = ['grey','r','b']\n",
                "    if k_value in [1,10,70]:\n",
                "        xvals = np.linspace(x.min(),x.max(),100)\n",
                "        ypreds = KNN.predict(xvals.reshape(-1, 1))\n",
                "        ax.plot(xvals, ypreds,'-',label = f'k = {int(k_value)}',linewidth=j+2,color = colors[j])\n",
                "        j+=1\n",
                "        \n",
                "ax.legend(loc='lower right',fontsize=20)\n",
                "ax.plot(x_train, y_train,'x',label='test',color='k')\n",
                "ax.set_xlabel('TV budget in $1000',fontsize=20)\n",
                "ax.set_ylabel('Sales in $1000',fontsize=20)\n",
                "plt.tight_layout()"
            ]
        },
        {
            "attachments": {},
            "cell_type": "markdown",
            "metadata": {},
            "source": [
                "### Graph plot"
            ]
        },
        {
            "cell_type": "code",
            "execution_count": 67,
            "metadata": {},
            "outputs": [
                {
                    "data": {
                        "image/png": "[encoded data removed]",
                        "text/plain": "\u003cFigure size 800x600 with 1 Axes\u003e"
                    },
                    "metadata": {},
                    "output_type": "display_data"
                }
            ],
            "source": [
                "# Define the k values and corresponding MSE values\n",
                "k_values = list(knn_dict.keys())\n",
                "mse_values = list(knn_dict.values())\n",
                "\n",
                "# Plot a graph which depicts the relation between the k values and MSE\n",
                "plt.figure(figsize=(8,6))\n",
                "plt.plot(k_values, mse_values, 'k.-', alpha=0.5, linewidth=2)\n",
                "\n",
                "# Set the title and axis labels\n",
                "plt.xlabel('k', fontsize=20)\n",
                "plt.ylabel('MSE', fontsize=20)\n",
                "plt.title('Test MSE values for different k values - KNN regression', fontsize=20)\n",
                "plt.tight_layout()\n",
                "plt.show()"
            ]
        },
        {
            "attachments": {},
            "cell_type": "markdown",
            "metadata": {},
            "source": [
                "### Find the best knn model"
            ]
        },
        {
            "cell_type": "code",
            "execution_count": 68,
            "metadata": {},
            "outputs": [
                {
                    "name": "stdout",
                    "output_type": "stream",
                    "text": "The best k value is  [9] with a MSE of  13.046766975308643\n"
                }
            ],
            "source": [
                "### edTest(test_mse) ###\n",
                "\n",
                "# Find the lowest MSE among all the kNN models\n",
                "min_mse = min(mse_values)\n",
                "\n",
                "# Use list comprehensions to find the k value associated with the lowest MSE\n",
                "best_model = [key  for (key, value) in knn_dict.items() if value == min_mse]\n",
                "\n",
                "# Print the best k-value\n",
                "print (\"The best k value is \",best_model,\"with a MSE of \", min_mse)\n",
                ""
            ]
        },
        {
            "attachments": {},
            "cell_type": "markdown",
            "metadata": {},
            "source": [
                "### ⏸ From the options below, how would you classify the \"goodness\" of your model?\n",
                "\n",
                "#### A. Good\n",
                "#### B. Satisfactory\n",
                "#### C. Bad"
            ]
        },
        {
            "cell_type": "code",
            "execution_count": 69,
            "metadata": {},
            "outputs": [],
            "source": [
                "### edTest(test_chow1) ###\n",
                "# Submit an answer choice as a string below (eg. if you choose option A, put 'A')\n",
                "answer1 = 'A'\n",
                ""
            ]
        },
        {
            "cell_type": "code",
            "execution_count": 70,
            "metadata": {},
            "outputs": [
                {
                    "name": "stdout",
                    "output_type": "stream",
                    "text": "The R2 score for your model is 0.5492457002030715\n"
                }
            ],
            "source": [
                "# Helper code to compute the R2_score of your best model\n",
                "model = KNeighborsRegressor(n_neighbors=best_model[0])\n",
                "model.fit(x_train.values.reshape(-1, 1), y_train.values.reshape(-1, 1))\n",
                "y_pred_test = model.predict(x_test.values.reshape(-1, 1))\n",
                "\n",
                "# Print the R2 score of the model\n",
                "print(f\"The R2 score for your model is {r2_score(y_test, y_pred_test)}\")\n",
                ""
            ]
        },
        {
            "attachments": {},
            "cell_type": "markdown",
            "metadata": {},
            "source": [
                "### ⏸ After observing the $R^2$ value, how would you now classify your model?\n",
                "\n",
                "#### A. Good\n",
                "#### B. Satisfactory\n",
                "#### C. Bad\n",
                ""
            ]
        },
        {
            "cell_type": "code",
            "execution_count": 71,
            "metadata": {},
            "outputs": [],
            "source": [
                "### edTest(test_chow2) ###\n",
                "# Submit an answer choice as a string below (eg. if you choose option A, put 'A')\n",
                "answer2 = 'B'\n",
                ""
            ]
        }
    ]
}
